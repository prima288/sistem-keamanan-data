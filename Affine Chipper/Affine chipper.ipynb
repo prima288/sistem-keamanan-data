{
 "cells": [
  {
   "cell_type": "code",
   "execution_count": 4,
   "id": "ff816bfd-be06-4424-86f1-d9f9dda9a3ae",
   "metadata": {},
   "outputs": [
    {
     "name": "stdout",
     "output_type": "stream",
     "text": [
      "-----AFFINE CIPHER-----\n"
     ]
    },
    {
     "name": "stdin",
     "output_type": "stream",
     "text": [
      "Pilih fungsi:\n",
      "1. Enkripsi\n",
      "2. Dekripsi\n",
      " 2\n",
      "Masukkan kata yang akan dideskripsi :  jrpifsx yedpf evhhfed\n"
     ]
    },
    {
     "name": "stdout",
     "output_type": "stream",
     "text": [
      "Hasil Dekripsi : kembang prima rossari\n"
     ]
    }
   ],
   "source": [
    "# Fungsi enkripsi dengan Affine Cipher\n",
    "def encrypt(text, A, B):\n",
    "    encrypted_text = \"\"\n",
    "    for char in text:\n",
    "        if char.isalpha():\n",
    "            if char.islower():\n",
    "                # Mengenkripsi huruf kecil dengan rumus Affine Cipher\n",
    "                encrypted_char = chr(((ord(char) - ord('a')) * A + B) % 26 + ord('a'))\n",
    "            elif char.isupper():\n",
    "                # Mengenkripsi huruf besar dengan rumus Affine Cipher\n",
    "                encrypted_char = chr(((ord(char) - ord('A')) * A + B) % 26 + ord('A'))\n",
    "        else:\n",
    "            # Jika bukan huruf, biarkan karakter tersebut tidak berubah\n",
    "            encrypted_char = char\n",
    "        encrypted_text += encrypted_char\n",
    "    return encrypted_text\n",
    "    \n",
    "# Fungsi dekripsi dengan Affine Cipher\n",
    "def decrypt(text, A, B):\n",
    "    decrypted_text = \"\"\n",
    "    A_inv = None\n",
    "    for i in range(26):\n",
    "        if (A * i) % 26 == 1:\n",
    "            # Mencari invers modular dari A\n",
    "            A_inv = i\n",
    "            break\n",
    "\n",
    "    if A_inv is not None:\n",
    "        for char in text:\n",
    "            if char.isalpha():\n",
    "                if char.islower():\n",
    "                    # Mendekripsi huruf kecil dengan rumus Affine Cipher\n",
    "                    decrypted_char = chr(((ord(char) - ord('a') - B) * A_inv) % 26 + ord('a'))\n",
    "                elif char.isupper():\n",
    "                    # Mendekripsi huruf besar dengan rumus Affine Cipher\n",
    "                    decrypted_char = chr(((ord(char) - ord('A') - B) * A_inv) % 26 + ord('A'))\n",
    "            else:\n",
    "                # Jika bukan huruf, biarkan karakter tersebut tidak berubah\n",
    "                decrypted_char = char\n",
    "            decrypted_text += decrypted_char\n",
    "        return decrypted_text\n",
    "    else:\n",
    "        return \"Kunci tidak valid\"\n",
    "\n",
    "print(\"-----AFFINE CIPHER-----\")\n",
    "\n",
    "def main():\n",
    "    choice = input(\"Pilih fungsi:\\n1. Enkripsi\\n2. Dekripsi\\n\")\n",
    "    \n",
    "    if choice == '1':\n",
    "        plaintext = input(\"Masukkan teks yang akan dienkripsi : \")\n",
    "        A = 3  # Kunci A tetap\n",
    "        B = 5  # Kunci B tetap\n",
    "\n",
    "        encrypted_text = encrypt(plaintext, A, B)\n",
    "        print(\"Hasil Enkripsi :\", encrypted_text)\n",
    "        \n",
    "    elif choice == '2':\n",
    "        ciphertext = input(\"Masukkan kata yang akan dideskripsi : \")\n",
    "        A = 3  # Kunci A tetap\n",
    "        B = 5  # Kunci B tetap\n",
    "\n",
    "        decrypted_text = decrypt(ciphertext, A, B)\n",
    "        print(\"Hasil Dekripsi :\", decrypted_text)\n",
    "        \n",
    "    else:\n",
    "        print(\"Pilihan tidak valid\")\n",
    "        \n",
    "if __name__ == \"__main__\":\n",
    "    main()"
   ]
  },
  {
   "cell_type": "code",
   "execution_count": null,
   "id": "c6189149-3eb6-4798-a248-c8ccfc8d89f5",
   "metadata": {},
   "outputs": [],
   "source": []
  }
 ],
 "metadata": {
  "kernelspec": {
   "display_name": "Python 3 (ipykernel)",
   "language": "python",
   "name": "python3"
  },
  "language_info": {
   "codemirror_mode": {
    "name": "ipython",
    "version": 3
   },
   "file_extension": ".py",
   "mimetype": "text/x-python",
   "name": "python",
   "nbconvert_exporter": "python",
   "pygments_lexer": "ipython3",
   "version": "3.11.5"
  }
 },
 "nbformat": 4,
 "nbformat_minor": 5
}
