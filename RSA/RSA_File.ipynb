{
 "cells": [
  {
   "cell_type": "code",
   "execution_count": 2,
   "id": "1326934f-a8ac-461c-8b22-626029433069",
   "metadata": {},
   "outputs": [
    {
     "ename": "FileNotFoundError",
     "evalue": "[Errno 2] No such file or directory: 'C:/readme calculator gui.txt'",
     "output_type": "error",
     "traceback": [
      "\u001b[1;31m---------------------------------------------------------------------------\u001b[0m",
      "\u001b[1;31mFileNotFoundError\u001b[0m                         Traceback (most recent call last)",
      "Cell \u001b[1;32mIn[2], line 63\u001b[0m\n\u001b[0;32m     60\u001b[0m file_path \u001b[38;5;241m=\u001b[39m \u001b[38;5;124m\"\u001b[39m\u001b[38;5;124mC:/readme calculator gui.txt\u001b[39m\u001b[38;5;124m\"\u001b[39m\n\u001b[0;32m     62\u001b[0m \u001b[38;5;66;03m# Encrypt the file using the absolute path\u001b[39;00m\n\u001b[1;32m---> 63\u001b[0m encrypted_file \u001b[38;5;241m=\u001b[39m \u001b[43mencrypt_file\u001b[49m\u001b[43m(\u001b[49m\u001b[43mfile_path\u001b[49m\u001b[43m,\u001b[49m\u001b[43m \u001b[49m\u001b[38;5;124;43m\"\u001b[39;49m\u001b[38;5;124;43mpublic_key.pem\u001b[39;49m\u001b[38;5;124;43m\"\u001b[39;49m\u001b[43m)\u001b[49m\n\u001b[0;32m     64\u001b[0m \u001b[38;5;28mprint\u001b[39m(\u001b[38;5;124mf\u001b[39m\u001b[38;5;124m\"\u001b[39m\u001b[38;5;124mEncrypted File: \u001b[39m\u001b[38;5;132;01m{\u001b[39;00mencrypted_file\u001b[38;5;132;01m}\u001b[39;00m\u001b[38;5;124m\"\u001b[39m)\n\u001b[0;32m     66\u001b[0m \u001b[38;5;66;03m# Decrypt the previously encrypted file\u001b[39;00m\n",
      "Cell \u001b[1;32mIn[2], line 14\u001b[0m, in \u001b[0;36mencrypt_file\u001b[1;34m(file_path, public_key_path)\u001b[0m\n\u001b[0;32m     13\u001b[0m \u001b[38;5;28;01mdef\u001b[39;00m \u001b[38;5;21mencrypt_file\u001b[39m(file_path, public_key_path):\n\u001b[1;32m---> 14\u001b[0m     \u001b[38;5;28;01mwith\u001b[39;00m \u001b[38;5;28;43mopen\u001b[39;49m\u001b[43m(\u001b[49m\u001b[43mfile_path\u001b[49m\u001b[43m,\u001b[49m\u001b[43m \u001b[49m\u001b[38;5;124;43m'\u001b[39;49m\u001b[38;5;124;43mrb\u001b[39;49m\u001b[38;5;124;43m'\u001b[39;49m\u001b[43m)\u001b[49m \u001b[38;5;28;01mas\u001b[39;00m file:\n\u001b[0;32m     15\u001b[0m         plaintext_text \u001b[38;5;241m=\u001b[39m file\u001b[38;5;241m.\u001b[39mread()\n\u001b[0;32m     17\u001b[0m     \u001b[38;5;28;01mwith\u001b[39;00m \u001b[38;5;28mopen\u001b[39m(public_key_path, \u001b[38;5;124m'\u001b[39m\u001b[38;5;124mrb\u001b[39m\u001b[38;5;124m'\u001b[39m) \u001b[38;5;28;01mas\u001b[39;00m file:\n",
      "File \u001b[1;32m~\\AppData\\Local\\Programs\\Python\\Python312\\Lib\\site-packages\\IPython\\core\\interactiveshell.py:286\u001b[0m, in \u001b[0;36m_modified_open\u001b[1;34m(file, *args, **kwargs)\u001b[0m\n\u001b[0;32m    279\u001b[0m \u001b[38;5;28;01mif\u001b[39;00m file \u001b[38;5;129;01min\u001b[39;00m {\u001b[38;5;241m0\u001b[39m, \u001b[38;5;241m1\u001b[39m, \u001b[38;5;241m2\u001b[39m}:\n\u001b[0;32m    280\u001b[0m     \u001b[38;5;28;01mraise\u001b[39;00m \u001b[38;5;167;01mValueError\u001b[39;00m(\n\u001b[0;32m    281\u001b[0m         \u001b[38;5;124mf\u001b[39m\u001b[38;5;124m\"\u001b[39m\u001b[38;5;124mIPython won\u001b[39m\u001b[38;5;124m'\u001b[39m\u001b[38;5;124mt let you open fd=\u001b[39m\u001b[38;5;132;01m{\u001b[39;00mfile\u001b[38;5;132;01m}\u001b[39;00m\u001b[38;5;124m by default \u001b[39m\u001b[38;5;124m\"\u001b[39m\n\u001b[0;32m    282\u001b[0m         \u001b[38;5;124m\"\u001b[39m\u001b[38;5;124mas it is likely to crash IPython. If you know what you are doing, \u001b[39m\u001b[38;5;124m\"\u001b[39m\n\u001b[0;32m    283\u001b[0m         \u001b[38;5;124m\"\u001b[39m\u001b[38;5;124myou can use builtins\u001b[39m\u001b[38;5;124m'\u001b[39m\u001b[38;5;124m open.\u001b[39m\u001b[38;5;124m\"\u001b[39m\n\u001b[0;32m    284\u001b[0m     )\n\u001b[1;32m--> 286\u001b[0m \u001b[38;5;28;01mreturn\u001b[39;00m \u001b[43mio_open\u001b[49m\u001b[43m(\u001b[49m\u001b[43mfile\u001b[49m\u001b[43m,\u001b[49m\u001b[43m \u001b[49m\u001b[38;5;241;43m*\u001b[39;49m\u001b[43margs\u001b[49m\u001b[43m,\u001b[49m\u001b[43m \u001b[49m\u001b[38;5;241;43m*\u001b[39;49m\u001b[38;5;241;43m*\u001b[39;49m\u001b[43mkwargs\u001b[49m\u001b[43m)\u001b[49m\n",
      "\u001b[1;31mFileNotFoundError\u001b[0m: [Errno 2] No such file or directory: 'C:/readme calculator gui.txt'"
     ]
    }
   ],
   "source": [
    "from Crypto.PublicKey import RSA\n",
    "from Crypto.Cipher import PKCS1_OAEP\n",
    "import base64\n",
    "\n",
    "def generate_RSA_key():\n",
    "    key = RSA.generate(2048)\n",
    "    return key\n",
    "\n",
    "def save_key_to_file(key, file_name):\n",
    "    with open(file_name, 'wb') as file:\n",
    "        file.write(key.export_key())\n",
    "\n",
    "def encrypt_file(file_path, public_key_path):\n",
    "    with open(file_path, 'rb') as file:\n",
    "        plaintext_text = file.read()\n",
    "\n",
    "    with open(public_key_path, 'rb') as file:\n",
    "        public_key = RSA.import_key(file.read())\n",
    "\n",
    "    cipher_rsa = PKCS1_OAEP.new(public_key)\n",
    "    encrypted_text = cipher_rsa.encrypt(plaintext_text)\n",
    "\n",
    "    encrypted_text_b64 = base64.b64encode(encrypted_text).decode('utf-8')\n",
    "\n",
    "    encrypted_file_name = \"encryptedFILE_rsa.txt\"\n",
    "    with open(encrypted_file_name, 'w') as encrypted_file:\n",
    "        encrypted_file.write(encrypted_text_b64)\n",
    "\n",
    "    return encrypted_file_name\n",
    "\n",
    "def decrypt_file(encrypted_file_name, private_key_path):\n",
    "    with open(encrypted_file_name, 'r') as file:\n",
    "        encrypted_text_b64 = file.read()\n",
    "\n",
    "    encrypted_text = base64.b64decode(encrypted_text_b64)\n",
    "\n",
    "    with open(private_key_path, 'rb') as file:\n",
    "        private_key = RSA.import_key(file.read())\n",
    "\n",
    "    cipher_rsa = PKCS1_OAEP.new(private_key)\n",
    "    decrypted_text = cipher_rsa.decrypt(encrypted_text)\n",
    "\n",
    "    decrypted_file_name = \"decryptedFILE_rsa.txt\"\n",
    "    with open(decrypted_file_name, 'wb') as decrypted_file:\n",
    "        decrypted_file.write(decrypted_text)\n",
    "\n",
    "    return decrypted_file_name\n",
    "\n",
    "# Generate RSA key pair\n",
    "private_key = generate_RSA_key()\n",
    "public_key = private_key.publickey()\n",
    "\n",
    "# Save private key to a file\n",
    "save_key_to_file(private_key, \"private_key.pem\")\n",
    "\n",
    "# Save public key to a file\n",
    "save_key_to_file(public_key, \"public_key.pem\")\n",
    "\n",
    "# Specify the absolute path of the file to be encrypted\n",
    "file_path = \"C:/readme calculator gui.txt\"\n",
    "\n",
    "# Encrypt the file using the absolute path\n",
    "encrypted_file = encrypt_file(file_path, \"public_key.pem\")\n",
    "print(f\"Encrypted File: {encrypted_file}\")\n",
    "\n",
    "# Decrypt the previously encrypted file\n",
    "decrypted_file = decrypt_file(encrypted_file, \"private_key.pem\")\n",
    "print(f\"Decrypted File: {decrypted_file}\")\n"
   ]
  },
  {
   "cell_type": "code",
   "execution_count": null,
   "id": "16836a78-1036-4361-b0c8-237828523d72",
   "metadata": {},
   "outputs": [],
   "source": []
  }
 ],
 "metadata": {
  "kernelspec": {
   "display_name": "Python 3 (ipykernel)",
   "language": "python",
   "name": "python3"
  },
  "language_info": {
   "codemirror_mode": {
    "name": "ipython",
    "version": 3
   },
   "file_extension": ".py",
   "mimetype": "text/x-python",
   "name": "python",
   "nbconvert_exporter": "python",
   "pygments_lexer": "ipython3",
   "version": "3.12.0"
  }
 },
 "nbformat": 4,
 "nbformat_minor": 5
}
