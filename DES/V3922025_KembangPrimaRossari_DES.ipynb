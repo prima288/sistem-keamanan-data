{
 "cells": [
  {
   "cell_type": "code",
   "execution_count": 1,
   "id": "d641a8c0-f3bc-4775-a21f-bcbd607bae86",
   "metadata": {},
   "outputs": [
    {
     "name": "stdin",
     "output_type": "stream",
     "text": [
      "Enter text to encrypt:  PRIMA\n",
      "Enter key (maximum 8 characters):  12345678\n"
     ]
    },
    {
     "name": "stdout",
     "output_type": "stream",
     "text": [
      "Plaintext: b'PRIMA'\n",
      "Key: b'12345678'\n",
      "Encryption: b'\\x13\\x16/k\\xb4\\x18E\\x08'\n",
      "Decryption: PRIMA\n"
     ]
    }
   ],
   "source": [
    "# Import necessary modules from the Crypto library\n",
    "from Crypto.Cipher import DES\n",
    "from Crypto.Random import get_random_bytes\n",
    "from Crypto.Util.Padding import pad, unpad\n",
    "\n",
    "# Function to get user input\n",
    "def get_user_input():\n",
    "    text = input(\"Enter text to encrypt: \").encode('utf-8')\n",
    "    key = input(\"Enter key (maximum 8 characters): \").encode('utf-8')\n",
    "    return text, key\n",
    "\n",
    "# Function for encryption\n",
    "def encrypt(text, key):\n",
    "    if len(key) < 8:\n",
    "        key = key.ljust(8, b'\\x00')\n",
    "    elif len(key) > 8:\n",
    "        key = key[:8]\n",
    "    \n",
    "    cipher = DES.new(key, DES.MODE_ECB)\n",
    "    padded_text = pad(text, DES.block_size)\n",
    "    ciphertext = cipher.encrypt(padded_text)\n",
    "    return ciphertext\n",
    "\n",
    "# Function for decryption\n",
    "def decrypt(ciphertext, key):\n",
    "    if len(key) < 8:\n",
    "        key = key.ljust(8, b'\\x00')\n",
    "    elif len(key) > 8:\n",
    "        key = key[:8]\n",
    "    \n",
    "    cipher = DES.new(key, DES.MODE_ECB)\n",
    "    decrypted_text = unpad(cipher.decrypt(ciphertext), DES.block_size)\n",
    "    return decrypted_text\n",
    "\n",
    "# Main function\n",
    "def main():\n",
    "    text, key = get_user_input()\n",
    "    \n",
    "    if len(key) != 8:\n",
    "        print(\"Key length must be maximum 8 characters.\")\n",
    "        return\n",
    "    \n",
    "    print(f'Plaintext: {text}')\n",
    "    print(f'Key: {key}')\n",
    "\n",
    "    ciphertext = encrypt(text, key)\n",
    "    print(f'Encryption: {ciphertext}')\n",
    "\n",
    "    decrypted_text = decrypt(ciphertext, key)\n",
    "    print(f'Decryption: {decrypted_text.decode(\"utf-8\")}')\n",
    "\n",
    "if __name__ == \"__main__\":\n",
    "    main()\n"
   ]
  },
  {
   "cell_type": "code",
   "execution_count": null,
   "id": "04d1e23d-e509-4f93-9087-677dac2ea39f",
   "metadata": {},
   "outputs": [],
   "source": []
  }
 ],
 "metadata": {
  "kernelspec": {
   "display_name": "Python 3 (ipykernel)",
   "language": "python",
   "name": "python3"
  },
  "language_info": {
   "codemirror_mode": {
    "name": "ipython",
    "version": 3
   },
   "file_extension": ".py",
   "mimetype": "text/x-python",
   "name": "python",
   "nbconvert_exporter": "python",
   "pygments_lexer": "ipython3",
   "version": "3.12.0"
  }
 },
 "nbformat": 4,
 "nbformat_minor": 5
}
