{
 "cells": [
  {
   "cell_type": "code",
   "execution_count": 1,
   "id": "bed80b99-7bdc-433f-8f8f-f3341fc91832",
   "metadata": {},
   "outputs": [
    {
     "name": "stdin",
     "output_type": "stream",
     "text": [
      "Enter Text  prima\n"
     ]
    },
    {
     "name": "stdout",
     "output_type": "stream",
     "text": [
      "Enkripsi:  b'\\x9a\\xf3U\\x89\\x18H\\x12\\xf0\\xc7}`\\xdf{2\\xeaH\\xba=z\\xb4\\x0b'\n",
      "Dekripsi:  prima\n"
     ]
    }
   ],
   "source": [
    "\n",
    "from Crypto.Cipher import AES  # Mengimpor modul AES dari pustaka Crypto\n",
    "from Crypto.Random import get_random_bytes  # Mengimpor fungsi get_random_bytes untuk menghasilkan kunci acak\n",
    "import base64  # Mengimpor modul base64 untuk konversi data menjadi bentuk yang bisa disimpan/ditransfer\n",
    "\n",
    "# Fungsi enkripsi menggunakan AES dalam mode CFB\n",
    "def enkripsi(data, kunci):\n",
    "    iv = get_random_bytes(AES.block_size)  # Menghasilkan vektor inisialisasi (IV) sepanjang ukuran blok AES\n",
    "    cipher_enkripsi = AES.new(kunci, AES.MODE_CFB, iv=iv)  # Membuat objek AES untuk enkripsi dengan kunci dan IV yang telah dibuat\n",
    "    data_terenkripsi = cipher_enkripsi.encrypt(data)  # Melakukan enkripsi pada data menggunakan objek AES yang telah dibuat\n",
    "    data_hasil_enkripsi = iv + data_terenkripsi  # Menggabungkan IV dengan data terenkripsi\n",
    "    return data_hasil_enkripsi  # Mengembalikan data yang telah terenkripsi beserta IV\n",
    "\n",
    "# Fungsi dekripsi menggunakan AES dalam mode CFB\n",
    "def dekripsi(data_terenkripsi, kunci):\n",
    "    iv = data_terenkripsi[:AES.block_size]  # Mengambil IV dari data yang telah terenkripsi\n",
    "    data_terenkripsi = data_terenkripsi[AES.block_size:]  # Mengambil data terenkripsi setelah bagian IV\n",
    "    cipher_dekripsi = AES.new(kunci, AES.MODE_CFB, iv=iv)  # Membuat objek AES untuk dekripsi dengan kunci dan IV yang diperoleh\n",
    "    data_terdekripsi = cipher_dekripsi.decrypt(data_terenkripsi)  # Melakukan dekripsi pada data terenkripsi menggunakan objek AES yang telah dibuat\n",
    "    return data_terdekripsi  # Mengembalikan data yang telah terdekripsi\n",
    "\n",
    "kunci = get_random_bytes(16)  # Menghasilkan kunci acak sepanjang 16 byte untuk enkripsi dan dekripsi\n",
    "\n",
    "data_input = input(\"Enter Text \")  # Memasukkan teks yang akan dienkripsi\n",
    "data = data_input.encode('utf-8')  # Mengonversi teks menjadi bentuk byte menggunakan encoding utf-8\n",
    "\n",
    "# Enkripsi data menggunakan fungsi enkripsi\n",
    "data_terenkripsi = enkripsi(data, kunci)\n",
    "print(\"Enkripsi: \", data_terenkripsi)  # Menampilkan hasil enkripsi\n",
    "\n",
    "# Dekripsi data menggunakan fungsi dekripsi\n",
    "data_terdekripsi = dekripsi(data_terenkripsi, kunci)\n",
    "print(\"Dekripsi: \", data_terdekripsi.decode('utf-8'))  # Menampilkan hasil dekripsi"
   ]
  },
  {
   "cell_type": "code",
   "execution_count": null,
   "id": "994ff25c-dd54-43ce-9262-bae2e9c4f096",
   "metadata": {},
   "outputs": [],
   "source": []
  }
 ],
 "metadata": {
  "kernelspec": {
   "display_name": "Python 3 (ipykernel)",
   "language": "python",
   "name": "python3"
  },
  "language_info": {
   "codemirror_mode": {
    "name": "ipython",
    "version": 3
   },
   "file_extension": ".py",
   "mimetype": "text/x-python",
   "name": "python",
   "nbconvert_exporter": "python",
   "pygments_lexer": "ipython3",
   "version": "3.12.0"
  }
 },
 "nbformat": 4,
 "nbformat_minor": 5
}
